{
 "cells": [
  {
   "cell_type": "code",
   "execution_count": null,
   "id": "caeb0393",
   "metadata": {},
   "outputs": [],
   "source": [
    "\n",
    "# import the necessary packages\n",
    "import numpy as np\n",
    "import cv2\n",
    "# initialize the class labels and set the seed of the pseudorandom\n",
    "# number generator so we can reproduce our results\n",
    "labels = [\"dog\", \"cat\", \"panda\"]\n",
    "np.random.seed(1)\n",
    "\n",
    "# randomly initialize our weight matrix and bias vector -- in a\n",
    "# *real* training and classification task, these parameters would\n",
    "# be *learned* by our model, but for the sake of this example,\n",
    "# let's use random values\n",
    "W = np.random.randn(3, 3072)\n",
    "b = np.random.randn(3)\n",
    "\n",
    "# load our example image, resize it, and then flatten it into our\n",
    "# \"feature vector\" representation\n",
    "orig = cv2.imread(\"beagle.png\")\n",
    "image = cv2.resize(orig, (32, 32)).flatten()\n",
    "\n",
    "# compute the output scores by taking the dot product between the\n",
    "# weight matrix and image pixels, followed by adding in the bias\n",
    "scores = W.dot(image) + b\n",
    "\n",
    "# loop over the scores + labels and display them\n",
    "for (label, score) in zip(labels, scores):\n",
    "\tprint(\"[INFO] {}: {:.2f}\".format(label, score))\n",
    "# draw the label with the highest score on the image as our\n",
    "# prediction\n",
    "cv2.putText(orig, \"Label: {}\".format(labels[np.argmax(scores)]),\n",
    "\t(10, 30), cv2.FONT_HERSHEY_SIMPLEX, 0.9, (0, 255, 0), 2)\n",
    "# display our input image\n",
    "cv2.imshow(\"Image\", orig)\n",
    "cv2.waitKey(0)\n"
   ]
  },
  {
   "cell_type": "code",
   "execution_count": 2,
   "id": "bb4fa103",
   "metadata": {},
   "outputs": [
    {
     "name": "stdout",
     "output_type": "stream",
     "text": [
      "The local minimum occurs at 3.138894566003862\n"
     ]
    }
   ],
   "source": [
    "cur_x = 3 # The algorithm starts at x=3\n",
    "rate = 0.01 # Learning rate\n",
    "precision = 0.000001 #This tells us when to stop the algorithm\n",
    "previous_step_size = 1 #\n",
    "max_iters = 10000 # maximum number of iterations\n",
    "iters = 0 #iteration counter\n",
    "df = lambda x: x**4-x**3-12*x**2+15*x+5 #Gradient of our function f (x) = x4 − x3 −12x2 +15x+5.\n",
    "\n",
    "while previous_step_size > precision and iters < max_iters:\n",
    "    prev_x = cur_x #Store current x value in prev_x\n",
    "    cur_x = cur_x - rate * df(prev_x) #Grad descent\n",
    "    previous_step_size = abs(cur_x - prev_x) #Change in x\n",
    "    iters = iters+1 #iteration count\n",
    "    #print(\"Iteration\",iters,\"\\nX value is\",cur_x) #Print iterations\n",
    "    \n",
    "print(\"The local minimum occurs at\", cur_x)"
   ]
  },
  {
   "cell_type": "code",
   "execution_count": null,
   "id": "37ee7cd1",
   "metadata": {},
   "outputs": [],
   "source": []
  }
 ],
 "metadata": {
  "kernelspec": {
   "display_name": "Python 3 (ipykernel)",
   "language": "python",
   "name": "python3"
  },
  "language_info": {
   "codemirror_mode": {
    "name": "ipython",
    "version": 3
   },
   "file_extension": ".py",
   "mimetype": "text/x-python",
   "name": "python",
   "nbconvert_exporter": "python",
   "pygments_lexer": "ipython3",
   "version": "3.9.10"
  }
 },
 "nbformat": 4,
 "nbformat_minor": 5
}
