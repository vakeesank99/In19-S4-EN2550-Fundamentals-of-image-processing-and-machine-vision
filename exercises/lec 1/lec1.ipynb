{
 "cells": [
  {
   "cell_type": "markdown",
   "metadata": {},
   "source": [
    "### Name : Vakeesan.K\n",
    "### Index no. : 190643G"
   ]
  },
  {
   "cell_type": "markdown",
   "metadata": {},
   "source": [
    "##### 1. Write a program to display the squares of numbers form 1 to 5 as seen below."
   ]
  },
  {
   "cell_type": "code",
   "execution_count": 3,
   "metadata": {},
   "outputs": [
    {
     "name": "stdout",
     "output_type": "stream",
     "text": [
      "1  :   1\n",
      "2  :   4\n",
      "3  :   9\n",
      "4  :   16\n",
      "5  :   25\n"
     ]
    }
   ],
   "source": [
    "for i in range (1,6):\n",
    "  print(i,\" :  \",i**2)"
   ]
  },
  {
   "cell_type": "markdown",
   "metadata": {},
   "source": [
    "##### 2. Alter the code in 14 to print the square only of non-prime numbers. Use the isprime function in the sympy package for testing if a number is a prime."
   ]
  },
  {
   "cell_type": "code",
   "execution_count": 1,
   "metadata": {},
   "outputs": [
    {
     "name": "stdout",
     "output_type": "stream",
     "text": [
      "1  :   1\n",
      "4  :   16\n"
     ]
    }
   ],
   "source": [
    "import sympy \n",
    "for i in range(1,6):\n",
    "  if not sympy.isprime(i):\n",
    "    print(i,' :  ',i**2)"
   ]
  },
  {
   "cell_type": "markdown",
   "metadata": {},
   "source": [
    "##### 3. Use a comprehension to do 14."
   ]
  },
  {
   "cell_type": "code",
   "execution_count": 4,
   "metadata": {},
   "outputs": [
    {
     "name": "stdout",
     "output_type": "stream",
     "text": [
      "[1, 4, 9, 16, 25]\n"
     ]
    }
   ],
   "source": [
    "sqr=[i**2 for i in range(1,6)]\n",
    "print(sqr)"
   ]
  },
  {
   "cell_type": "markdown",
   "metadata": {},
   "source": [
    "##### 4. Use a comprehension to do 11."
   ]
  },
  {
   "cell_type": "code",
   "execution_count": 5,
   "metadata": {},
   "outputs": [
    {
     "name": "stdout",
     "output_type": "stream",
     "text": [
      "[1, 16]\n"
     ]
    }
   ],
   "source": [
    "sqr_2=[i**2 for i in range(1,6) if not sympy.isprime(i)]\n",
    "print(sqr_2)"
   ]
  },
  {
   "cell_type": "markdown",
   "metadata": {},
   "source": [
    "##### 5. Using NumPy carry out the following computations."
   ]
  },
  {
   "cell_type": "code",
   "execution_count": 4,
   "metadata": {},
   "outputs": [
    {
     "name": "stdout",
     "output_type": "stream",
     "text": [
      "[[ 9 12 15  9]\n",
      " [25 32 39 19]\n",
      " [41 52 63 29]]\n",
      "[[ 9 12 15  9]\n",
      " [25 32 39 19]\n",
      " [41 52 63 29]]\n",
      "[[ 9 12 15  9]\n",
      " [25 32 39 19]\n",
      " [41 52 63 29]]\n"
     ]
    }
   ],
   "source": [
    "import numpy as np\n",
    "A=np.array([[1,2],[3,4],[5,6]])\n",
    "B=np.array([[7,8,9,1],[1,2,3,4]])\n",
    "print(np.dot(A,B))\n",
    "print(A @ B)\n",
    "print(np.matmul(A,B))"
   ]
  },
  {
   "cell_type": "code",
   "execution_count": 7,
   "metadata": {},
   "outputs": [
    {
     "name": "stdout",
     "output_type": "stream",
     "text": [
      "[[ 3  4]\n",
      " [15 16]\n",
      " [15  6]]\n"
     ]
    }
   ],
   "source": [
    "A=np.array([[1,2],[3,4],[5,6]])\n",
    "B=np.array([[3,2],[5,4],[3,1]])\n",
    "print(A * B)"
   ]
  },
  {
   "cell_type": "markdown",
   "metadata": {},
   "source": [
    "##### 6. Generate a 5×7 array of random integers in the interval [0,10] and extract the sub array consisting rows 2 to 4 and columns 1 and first two columns. What is the size of the resulting array?"
   ]
  },
  {
   "cell_type": "code",
   "execution_count": 8,
   "metadata": {},
   "outputs": [
    {
     "name": "stdout",
     "output_type": "stream",
     "text": [
      "[[ 4  5  4  1  8  3  4]\n",
      " [ 1  0  4  3  9  0  8]\n",
      " [ 4  7 10 10  0  6  9]\n",
      " [ 1  0  2 10  6  3  9]\n",
      " [ 2  8  4  6  3  3  8]]\n",
      "[[1 0]\n",
      " [4 7]\n",
      " [1 0]]\n"
     ]
    },
    {
     "data": {
      "text/plain": [
       "(3, 2)"
      ]
     },
     "execution_count": 8,
     "metadata": {},
     "output_type": "execute_result"
    }
   ],
   "source": [
    "rand_array=np.random.randint(11, size=(5, 7))\n",
    "print(rand_array)\n",
    "arr=rand_array[1:4,0:2]\n",
    "print(arr)\n",
    "np.size(arr)\n",
    "arr.shape"
   ]
  },
  {
   "cell_type": "markdown",
   "metadata": {},
   "source": [
    "##### 7. Show three examples of broadcasting."
   ]
  },
  {
   "cell_type": "code",
   "execution_count": 12,
   "metadata": {},
   "outputs": [
    {
     "name": "stdout",
     "output_type": "stream",
     "text": [
      "[[ 540  660]\n",
      " [1080 1320]\n",
      " [1620 1980]]\n",
      "[[ 24  46  69]\n",
      " [ 57  79 102]]\n",
      "[[ 144  528 1188]\n",
      " [ 540 1320 2376]]\n"
     ]
    }
   ],
   "source": [
    "x = np.array([12,24,36])\n",
    "y = np.array([45 , 55])\n",
    "\n",
    "print(np.reshape(x,(3,1))*y)\n",
    "\n",
    "z = np.array([[12, 22, 33],[45,55, 66]])\n",
    "print(x+z)\n",
    "\n",
    "print(x*z)"
   ]
  },
  {
   "cell_type": "markdown",
   "metadata": {},
   "source": [
    "##### 8. Consider the following code snippet."
   ]
  },
  {
   "cell_type": "code",
   "execution_count": 34,
   "metadata": {},
   "outputs": [
    {
     "name": "stdout",
     "output_type": "stream",
     "text": [
      "[[-0.55834633]\n",
      " [ 1.94994059]]\n"
     ]
    },
    {
     "data": {
      "image/png": "[encoded data removed]",
      "text/plain": [
       "<Figure size 432x288 with 1 Axes>"
      ]
     },
     "metadata": {
      "needs_background": "light"
     },
     "output_type": "display_data"
    }
   ],
   "source": [
    "import matplotlib.pyplot as plt\n",
    "from numpy import linalg\n",
    "m, c = 2 , -4\n",
    "N = 100\n",
    "x = np . linspace (0 , N-1, N) . reshape (N, 1 )\n",
    "sigma = 10\n",
    "y = m*x + c + np . random. normal (0 , sigma , (N, 1 ) )\n",
    "plt.scatter(x,y)\n",
    "\n",
    "X=np.append(np.ones([N,1]),x,axis = 1)\n",
    "\n",
    "w = linalg.inv(X.T @ X) @ X.T @ y\n",
    "print(w)"
   ]
  },
  {
   "cell_type": "markdown",
   "metadata": {},
   "source": [
    "##### 10. Use Gaussian smoothing to filter the noise in the image gal_gaussian.png shown in Fig. 13."
   ]
  },
  {
   "cell_type": "code",
   "execution_count": 5,
   "metadata": {},
   "outputs": [],
   "source": [
    "import cv2 as cv \n",
    "im = cv.imread(r'C:\\Python39\\cv\\exercices\\lec1\\image gal_gaussian.jpg')\n",
    "assert im is not None\n",
    "\n",
    "\n",
    "g_smooth = cv.GaussianBlur(im,(5,5),cv.BORDER_DEFAULT)\n",
    "\n",
    "\n",
    "cv.namedWindow('Image',cv.WINDOW_AUTOSIZE)\n",
    "cv.imshow(\"Image\",im)\n",
    "cv.waitKey(0)\n",
    "\n",
    "cv.imshow(\"Image\",g_smooth)\n",
    "cv.waitKey(0)\n",
    "\n",
    "\n",
    "cv.destroyAllWindows()"
   ]
  },
  {
   "cell_type": "markdown",
   "metadata": {},
   "source": [
    "##### 11. Use median filtering to filter the salt and pepper noise in the image gal_sandp.png shown in Fig. 2."
   ]
  },
  {
   "cell_type": "code",
   "execution_count": 2,
   "metadata": {},
   "outputs": [],
   "source": [
    "import cv2 as cv \n",
    "im_2 = cv.imread(r\"C:\\Python39\\cv\\exercices\\lec1\\image gal_saltp.jpg\")\n",
    "assert im_2 is not None\n",
    "\n",
    "m_filter = cv.medianBlur(im_2,5)\n",
    "\n",
    "cv.imshow(\"Image\",im_2)\n",
    "cv.waitKey(0)\n",
    "\n",
    "cv.imshow(\"Image\",m_filter)\n",
    "cv.waitKey(0)\n",
    "cv.destroyAllWindows()"
   ]
  },
  {
   "cell_type": "markdown",
   "metadata": {},
   "source": [
    "##### 12. Create a 40×60 grayscale image and change the color of the top-right quarter to 125."
   ]
  },
  {
   "cell_type": "code",
   "execution_count": 3,
   "metadata": {},
   "outputs": [
    {
     "data": {
      "image/png": "[encoded data removed]",
      "text/plain": [
       "<Figure size 432x288 with 1 Axes>"
      ]
     },
     "metadata": {
      "needs_background": "light"
     },
     "output_type": "display_data"
    },
    {
     "data": {
      "text/plain": [
       "'cv.imshow(\"Image\", im)\\ncv.waitKey(0)\\ncv.destroyAllWindows'"
      ]
     },
     "execution_count": 3,
     "metadata": {},
     "output_type": "execute_result"
    }
   ],
   "source": [
    "import numpy as np\n",
    "import cv2 as cv\n",
    "import matplotlib.pyplot as plt\n",
    "\n",
    "im = np.zeros((40,60), dtype=np.uint8)\n",
    "assert im is not None \n",
    "\n",
    "im[0:21, 30:61] = 125\n",
    "\n",
    "fig, ax = plt.subplots()\n",
    "ax.imshow(im, cmap='gray', vmin=0, vmax=256)\n",
    "plt.show()\n",
    "\"\"\"cv.imshow(\"Image\", im)\n",
    "cv.waitKey(0)\n",
    "cv.destroyAllWindows\"\"\""
   ]
  },
  {
   "cell_type": "markdown",
   "metadata": {},
   "source": [
    "##### 13. Create a 40×60 color image and change the color of the bottom-left quarter to “Barbie Pink”4."
   ]
  },
  {
   "cell_type": "code",
   "execution_count": 6,
   "metadata": {},
   "outputs": [
    {
     "data": {
      "image/png": "[encoded data removed]",
      "text/plain": [
       "<Figure size 432x288 with 1 Axes>"
      ]
     },
     "metadata": {
      "needs_background": "light"
     },
     "output_type": "display_data"
    }
   ],
   "source": [
    "import numpy as np\n",
    "import cv2 as cv\n",
    "import matplotlib.pyplot as plt\n",
    "\n",
    "im = np.zeros((40,60,3), dtype=np.uint8)\n",
    "assert im is not None \n",
    "\n",
    "im[20:41, 0:31] = [218, 24, 132]\n",
    "\n",
    "fig, ax = plt.subplots()\n",
    "ax.imshow(im, cmap='gray', vmin=0, vmax=256)\n",
    "plt.show()"
   ]
  },
  {
   "cell_type": "markdown",
   "metadata": {},
   "source": [
    "##### 14. Increase the brightness of the image tom_dark.jpg shown in Fig. 3."
   ]
  },
  {
   "cell_type": "code",
   "execution_count": 9,
   "metadata": {},
   "outputs": [],
   "source": [
    "import cv2 as cv\n",
    "im = cv.imread(r\"C:\\Python39\\cv\\exercices\\lec1\\tom_dark.jpg\")\n",
    "assert im is not None\n",
    "\n",
    "bright_tom = im + 128 \n",
    "cv.imshow('Image',im)\n",
    "cv.waitKey(0)\n",
    "\n",
    "cv.imshow(\"Image\",bright_tom)\n",
    "cv.waitKey(0)\n",
    "\n",
    "cv.destroyAllWindows()"
   ]
  }
 ],
 "metadata": {
  "interpreter": {
   "hash": "5fa49fc0c8bee0afb212c1fac43d5f8f25ffee8414fd81d9c6971de023d6c545"
  },
  "kernelspec": {
   "display_name": "Python 3.9.10 64-bit ('cv': venv)",
   "language": "python",
   "name": "python3"
  },
  "language_info": {
   "codemirror_mode": {
    "name": "ipython",
    "version": 3
   },
   "file_extension": ".py",
   "mimetype": "text/x-python",
   "name": "python",
   "nbconvert_exporter": "python",
   "pygments_lexer": "ipython3",
   "version": "3.9.10"
  },
  "orig_nbformat": 4
 },
 "nbformat": 4,
 "nbformat_minor": 2
}
